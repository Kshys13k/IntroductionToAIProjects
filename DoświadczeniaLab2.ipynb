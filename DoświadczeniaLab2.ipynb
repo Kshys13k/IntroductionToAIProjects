{
 "cells": [
  {
   "cell_type": "code",
   "execution_count": 3,
   "id": "5c081350",
   "metadata": {},
   "outputs": [],
   "source": [
    "\n",
    "from Lab2.GeneticAlgorithm import GeneticAlgorithm"
   ]
  },
  {
   "cell_type": "code",
   "execution_count": null,
   "id": "b29c8ab5",
   "metadata": {},
   "outputs": [],
   "source": [
    "g=GeneticAlgorithm.GeneticAlgorithm()\n",
    "results=[]\n",
    "for i in range(25):\n",
    "    g.generateRandomPopulation(1000)\n",
    "    g.geneticAlgorithmStats(5,1000)\n",
    "    g.printPopulation()"
   ]
  }
 ],
 "metadata": {
  "kernelspec": {
   "display_name": "firstEnv",
   "language": "python",
   "name": "firstenv"
  },
  "language_info": {
   "codemirror_mode": {
    "name": "ipython",
    "version": 3
   },
   "file_extension": ".py",
   "mimetype": "text/x-python",
   "name": "python",
   "nbconvert_exporter": "python",
   "pygments_lexer": "ipython3",
   "version": "3.10.9"
  }
 },
 "nbformat": 4,
 "nbformat_minor": 5
}
