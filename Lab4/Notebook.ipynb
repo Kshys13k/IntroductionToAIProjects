{
 "cells": [
  {
   "cell_type": "code",
   "execution_count": 1,
   "id": "5218d597",
   "metadata": {},
   "outputs": [],
   "source": [
    "import pandas as pd\n",
    "import numpy as np\n",
    "from sklearn.model_selection import train_test_split\n",
    "from ID3 import ID3"
   ]
  },
  {
   "cell_type": "markdown",
   "id": "5ad14d40",
   "metadata": {},
   "source": [
    "# Breast cancer dataset"
   ]
  },
  {
   "cell_type": "code",
   "execution_count": 2,
   "id": "4a486040",
   "metadata": {},
   "outputs": [
    {
     "name": "stdout",
     "output_type": "stream",
     "text": [
      "(286, 10)\n"
     ]
    }
   ],
   "source": [
    "df=pd.read_csv(\"breast-cancer.csv\", header=None)\n",
    "df=df.rename(columns={0:\"class\",1:\"age\", 2:\"menopause\", 3:\"tumor-size\", 4:\"inv-nodes\", 5:\"node-caps\", 6:\"deg-malig\",7:\"breast\", 8:\"breast-quad\",9:\"irradiat\"})\n",
    "print(df.shape)\n",
    "Y=df.iloc[:,0:1]\n",
    "X=df.iloc[:,1:]"
   ]
  },
  {
   "cell_type": "code",
   "execution_count": 3,
   "id": "70cb0a3c",
   "metadata": {},
   "outputs": [],
   "source": [
    "xTrain, xTest, yTrain, yTest= train_test_split(X,Y,test_size=100,random_state=111)"
   ]
  },
  {
   "cell_type": "code",
   "execution_count": 4,
   "id": "69b3f9e6",
   "metadata": {},
   "outputs": [],
   "source": [
    "id3=ID3()\n",
    "id3.train(xTrain,yTrain)"
   ]
  },
  {
   "cell_type": "code",
   "execution_count": 5,
   "id": "5bf4e564",
   "metadata": {},
   "outputs": [],
   "source": [
    "res=id3.predict(xTest)"
   ]
  },
  {
   "cell_type": "code",
   "execution_count": 6,
   "id": "0bd45b20",
   "metadata": {},
   "outputs": [
    {
     "data": {
      "text/html": [
       "<div>\n",
       "<style scoped>\n",
       "    .dataframe tbody tr th:only-of-type {\n",
       "        vertical-align: middle;\n",
       "    }\n",
       "\n",
       "    .dataframe tbody tr th {\n",
       "        vertical-align: top;\n",
       "    }\n",
       "\n",
       "    .dataframe thead th {\n",
       "        text-align: right;\n",
       "    }\n",
       "</style>\n",
       "<table border=\"1\" class=\"dataframe\">\n",
       "  <thead>\n",
       "    <tr style=\"text-align: right;\">\n",
       "      <th></th>\n",
       "      <th>Predictions</th>\n",
       "      <th>class</th>\n",
       "      <th>Is Correct</th>\n",
       "    </tr>\n",
       "  </thead>\n",
       "  <tbody>\n",
       "    <tr>\n",
       "      <th>0</th>\n",
       "      <td>no-recurrence-events</td>\n",
       "      <td>recurrence-events</td>\n",
       "      <td>False</td>\n",
       "    </tr>\n",
       "    <tr>\n",
       "      <th>1</th>\n",
       "      <td>no-recurrence-events</td>\n",
       "      <td>no-recurrence-events</td>\n",
       "      <td>True</td>\n",
       "    </tr>\n",
       "    <tr>\n",
       "      <th>2</th>\n",
       "      <td>no-recurrence-events</td>\n",
       "      <td>no-recurrence-events</td>\n",
       "      <td>True</td>\n",
       "    </tr>\n",
       "    <tr>\n",
       "      <th>3</th>\n",
       "      <td>no-recurrence-events</td>\n",
       "      <td>recurrence-events</td>\n",
       "      <td>False</td>\n",
       "    </tr>\n",
       "    <tr>\n",
       "      <th>4</th>\n",
       "      <td>no-recurrence-events</td>\n",
       "      <td>recurrence-events</td>\n",
       "      <td>False</td>\n",
       "    </tr>\n",
       "    <tr>\n",
       "      <th>...</th>\n",
       "      <td>...</td>\n",
       "      <td>...</td>\n",
       "      <td>...</td>\n",
       "    </tr>\n",
       "    <tr>\n",
       "      <th>95</th>\n",
       "      <td>no-recurrence-events</td>\n",
       "      <td>no-recurrence-events</td>\n",
       "      <td>True</td>\n",
       "    </tr>\n",
       "    <tr>\n",
       "      <th>96</th>\n",
       "      <td>no-recurrence-events</td>\n",
       "      <td>no-recurrence-events</td>\n",
       "      <td>True</td>\n",
       "    </tr>\n",
       "    <tr>\n",
       "      <th>97</th>\n",
       "      <td>no-recurrence-events</td>\n",
       "      <td>no-recurrence-events</td>\n",
       "      <td>True</td>\n",
       "    </tr>\n",
       "    <tr>\n",
       "      <th>98</th>\n",
       "      <td>no-recurrence-events</td>\n",
       "      <td>no-recurrence-events</td>\n",
       "      <td>True</td>\n",
       "    </tr>\n",
       "    <tr>\n",
       "      <th>99</th>\n",
       "      <td>no-recurrence-events</td>\n",
       "      <td>no-recurrence-events</td>\n",
       "      <td>True</td>\n",
       "    </tr>\n",
       "  </tbody>\n",
       "</table>\n",
       "<p>100 rows × 3 columns</p>\n",
       "</div>"
      ],
      "text/plain": [
       "             Predictions                 class  Is Correct\n",
       "0   no-recurrence-events     recurrence-events       False\n",
       "1   no-recurrence-events  no-recurrence-events        True\n",
       "2   no-recurrence-events  no-recurrence-events        True\n",
       "3   no-recurrence-events     recurrence-events       False\n",
       "4   no-recurrence-events     recurrence-events       False\n",
       "..                   ...                   ...         ...\n",
       "95  no-recurrence-events  no-recurrence-events        True\n",
       "96  no-recurrence-events  no-recurrence-events        True\n",
       "97  no-recurrence-events  no-recurrence-events        True\n",
       "98  no-recurrence-events  no-recurrence-events        True\n",
       "99  no-recurrence-events  no-recurrence-events        True\n",
       "\n",
       "[100 rows x 3 columns]"
      ]
     },
     "execution_count": 6,
     "metadata": {},
     "output_type": "execute_result"
    }
   ],
   "source": [
    "new_index = list(range(len(yTest.index)))\n",
    "yTest.index=new_index\n",
    "resultDf=pd.concat([res,yTest],axis=1)\n",
    "resultDf[\"Is Correct\"]=(resultDf[\"Predictions\"]==resultDf[\"class\"])\n",
    "resultDf"
   ]
  },
  {
   "cell_type": "code",
   "execution_count": 7,
   "id": "e3a8c876",
   "metadata": {},
   "outputs": [
    {
     "name": "stdout",
     "output_type": "stream",
     "text": [
      "Liczba trafionych: 65, procent poprawnych: 65.0\n"
     ]
    }
   ],
   "source": [
    "liczbaPoprawnych=resultDf[\"Is Correct\"].sum()\n",
    "procent=liczbaPoprawnych/len(resultDf.index)*100\n",
    "print(\"Liczba trafionych: \"+ str(liczbaPoprawnych) + \", procent poprawnych: \" + str(procent))"
   ]
  },
  {
   "cell_type": "markdown",
   "id": "5bcc79c4",
   "metadata": {},
   "source": [
    "# Grzybki"
   ]
  },
  {
   "cell_type": "code",
   "execution_count": 8,
   "id": "8c68815d",
   "metadata": {},
   "outputs": [
    {
     "name": "stdout",
     "output_type": "stream",
     "text": [
      "(8123, 23)\n"
     ]
    }
   ],
   "source": [
    "df=pd.read_csv(\"agaricus-lepiota.csv\")\n",
    "print(df.shape)\n",
    "X=df.iloc[:,1:]\n",
    "Y=df.iloc[:,0:1]\n",
    "Xtrain, Xtest, Ytrain, Ytest=train_test_split(X,Y,test_size=3000,random_state=213)"
   ]
  },
  {
   "cell_type": "code",
   "execution_count": 9,
   "id": "4fc35f6c",
   "metadata": {},
   "outputs": [],
   "source": [
    "id3=ID3()\n",
    "id3.train(Xtrain,Ytrain)"
   ]
  },
  {
   "cell_type": "code",
   "execution_count": 10,
   "id": "e5276374",
   "metadata": {},
   "outputs": [
    {
     "data": {
      "text/html": [
       "<div>\n",
       "<style scoped>\n",
       "    .dataframe tbody tr th:only-of-type {\n",
       "        vertical-align: middle;\n",
       "    }\n",
       "\n",
       "    .dataframe tbody tr th {\n",
       "        vertical-align: top;\n",
       "    }\n",
       "\n",
       "    .dataframe thead th {\n",
       "        text-align: right;\n",
       "    }\n",
       "</style>\n",
       "<table border=\"1\" class=\"dataframe\">\n",
       "  <thead>\n",
       "    <tr style=\"text-align: right;\">\n",
       "      <th></th>\n",
       "      <th>Predictions</th>\n",
       "    </tr>\n",
       "  </thead>\n",
       "  <tbody>\n",
       "    <tr>\n",
       "      <th>0</th>\n",
       "      <td>p</td>\n",
       "    </tr>\n",
       "    <tr>\n",
       "      <th>1</th>\n",
       "      <td>e</td>\n",
       "    </tr>\n",
       "    <tr>\n",
       "      <th>2</th>\n",
       "      <td>p</td>\n",
       "    </tr>\n",
       "    <tr>\n",
       "      <th>3</th>\n",
       "      <td>p</td>\n",
       "    </tr>\n",
       "    <tr>\n",
       "      <th>4</th>\n",
       "      <td>p</td>\n",
       "    </tr>\n",
       "    <tr>\n",
       "      <th>...</th>\n",
       "      <td>...</td>\n",
       "    </tr>\n",
       "    <tr>\n",
       "      <th>2995</th>\n",
       "      <td>p</td>\n",
       "    </tr>\n",
       "    <tr>\n",
       "      <th>2996</th>\n",
       "      <td>e</td>\n",
       "    </tr>\n",
       "    <tr>\n",
       "      <th>2997</th>\n",
       "      <td>e</td>\n",
       "    </tr>\n",
       "    <tr>\n",
       "      <th>2998</th>\n",
       "      <td>p</td>\n",
       "    </tr>\n",
       "    <tr>\n",
       "      <th>2999</th>\n",
       "      <td>p</td>\n",
       "    </tr>\n",
       "  </tbody>\n",
       "</table>\n",
       "<p>3000 rows × 1 columns</p>\n",
       "</div>"
      ],
      "text/plain": [
       "     Predictions\n",
       "0              p\n",
       "1              e\n",
       "2              p\n",
       "3              p\n",
       "4              p\n",
       "...          ...\n",
       "2995           p\n",
       "2996           e\n",
       "2997           e\n",
       "2998           p\n",
       "2999           p\n",
       "\n",
       "[3000 rows x 1 columns]"
      ]
     },
     "execution_count": 10,
     "metadata": {},
     "output_type": "execute_result"
    }
   ],
   "source": [
    "res=id3.predict(Xtest)\n",
    "res"
   ]
  },
  {
   "cell_type": "code",
   "execution_count": 11,
   "id": "8ef169ab",
   "metadata": {},
   "outputs": [
    {
     "data": {
      "text/html": [
       "<div>\n",
       "<style scoped>\n",
       "    .dataframe tbody tr th:only-of-type {\n",
       "        vertical-align: middle;\n",
       "    }\n",
       "\n",
       "    .dataframe tbody tr th {\n",
       "        vertical-align: top;\n",
       "    }\n",
       "\n",
       "    .dataframe thead th {\n",
       "        text-align: right;\n",
       "    }\n",
       "</style>\n",
       "<table border=\"1\" class=\"dataframe\">\n",
       "  <thead>\n",
       "    <tr style=\"text-align: right;\">\n",
       "      <th></th>\n",
       "      <th>Predictions</th>\n",
       "      <th>p</th>\n",
       "      <th>Is Correct</th>\n",
       "    </tr>\n",
       "  </thead>\n",
       "  <tbody>\n",
       "    <tr>\n",
       "      <th>0</th>\n",
       "      <td>p</td>\n",
       "      <td>p</td>\n",
       "      <td>True</td>\n",
       "    </tr>\n",
       "    <tr>\n",
       "      <th>1</th>\n",
       "      <td>e</td>\n",
       "      <td>e</td>\n",
       "      <td>True</td>\n",
       "    </tr>\n",
       "    <tr>\n",
       "      <th>2</th>\n",
       "      <td>p</td>\n",
       "      <td>p</td>\n",
       "      <td>True</td>\n",
       "    </tr>\n",
       "    <tr>\n",
       "      <th>3</th>\n",
       "      <td>p</td>\n",
       "      <td>p</td>\n",
       "      <td>True</td>\n",
       "    </tr>\n",
       "    <tr>\n",
       "      <th>4</th>\n",
       "      <td>p</td>\n",
       "      <td>p</td>\n",
       "      <td>True</td>\n",
       "    </tr>\n",
       "    <tr>\n",
       "      <th>...</th>\n",
       "      <td>...</td>\n",
       "      <td>...</td>\n",
       "      <td>...</td>\n",
       "    </tr>\n",
       "    <tr>\n",
       "      <th>2995</th>\n",
       "      <td>p</td>\n",
       "      <td>p</td>\n",
       "      <td>True</td>\n",
       "    </tr>\n",
       "    <tr>\n",
       "      <th>2996</th>\n",
       "      <td>e</td>\n",
       "      <td>e</td>\n",
       "      <td>True</td>\n",
       "    </tr>\n",
       "    <tr>\n",
       "      <th>2997</th>\n",
       "      <td>e</td>\n",
       "      <td>e</td>\n",
       "      <td>True</td>\n",
       "    </tr>\n",
       "    <tr>\n",
       "      <th>2998</th>\n",
       "      <td>p</td>\n",
       "      <td>p</td>\n",
       "      <td>True</td>\n",
       "    </tr>\n",
       "    <tr>\n",
       "      <th>2999</th>\n",
       "      <td>p</td>\n",
       "      <td>p</td>\n",
       "      <td>True</td>\n",
       "    </tr>\n",
       "  </tbody>\n",
       "</table>\n",
       "<p>3000 rows × 3 columns</p>\n",
       "</div>"
      ],
      "text/plain": [
       "     Predictions  p  Is Correct\n",
       "0              p  p        True\n",
       "1              e  e        True\n",
       "2              p  p        True\n",
       "3              p  p        True\n",
       "4              p  p        True\n",
       "...          ... ..         ...\n",
       "2995           p  p        True\n",
       "2996           e  e        True\n",
       "2997           e  e        True\n",
       "2998           p  p        True\n",
       "2999           p  p        True\n",
       "\n",
       "[3000 rows x 3 columns]"
      ]
     },
     "execution_count": 11,
     "metadata": {},
     "output_type": "execute_result"
    }
   ],
   "source": [
    "new_index = list(range(len(Ytest.index)))\n",
    "Ytest.index=new_index\n",
    "resultDf=pd.concat([res,Ytest],axis=1)\n",
    "resultDf[\"Is Correct\"]=(resultDf[\"Predictions\"]==resultDf[\"p\"])\n",
    "resultDf"
   ]
  },
  {
   "cell_type": "code",
   "execution_count": 12,
   "id": "d3cdde43",
   "metadata": {},
   "outputs": [
    {
     "name": "stdout",
     "output_type": "stream",
     "text": [
      "Liczba trafionych: 2988, procent poprawnych: 99.6\n"
     ]
    }
   ],
   "source": [
    "liczbaPoprawnych=resultDf[\"Is Correct\"].sum()\n",
    "procent=liczbaPoprawnych/len(resultDf.index)*100\n",
    "print(\"Liczba trafionych: \"+ str(liczbaPoprawnych) + \", procent poprawnych: \" + str(procent))"
   ]
  },
  {
   "cell_type": "markdown",
   "id": "51a24ed1",
   "metadata": {},
   "source": [
    "## Jakim grzybkiem jest Zuzia?"
   ]
  },
  {
   "cell_type": "code",
   "execution_count": 14,
   "id": "c96dc8aa",
   "metadata": {},
   "outputs": [
    {
     "data": {
      "text/html": [
       "<div>\n",
       "<style scoped>\n",
       "    .dataframe tbody tr th:only-of-type {\n",
       "        vertical-align: middle;\n",
       "    }\n",
       "\n",
       "    .dataframe tbody tr th {\n",
       "        vertical-align: top;\n",
       "    }\n",
       "\n",
       "    .dataframe thead th {\n",
       "        text-align: right;\n",
       "    }\n",
       "</style>\n",
       "<table border=\"1\" class=\"dataframe\">\n",
       "  <thead>\n",
       "    <tr style=\"text-align: right;\">\n",
       "      <th></th>\n",
       "      <th>Predictions</th>\n",
       "    </tr>\n",
       "  </thead>\n",
       "  <tbody>\n",
       "    <tr>\n",
       "      <th>0</th>\n",
       "      <td>e</td>\n",
       "    </tr>\n",
       "    <tr>\n",
       "      <th>1</th>\n",
       "      <td>p</td>\n",
       "    </tr>\n",
       "    <tr>\n",
       "      <th>2</th>\n",
       "      <td>p</td>\n",
       "    </tr>\n",
       "    <tr>\n",
       "      <th>3</th>\n",
       "      <td>e</td>\n",
       "    </tr>\n",
       "    <tr>\n",
       "      <th>4</th>\n",
       "      <td>p</td>\n",
       "    </tr>\n",
       "  </tbody>\n",
       "</table>\n",
       "</div>"
      ],
      "text/plain": [
       "  Predictions\n",
       "0           e\n",
       "1           p\n",
       "2           p\n",
       "3           e\n",
       "4           p"
      ]
     },
     "execution_count": 14,
     "metadata": {},
     "output_type": "execute_result"
    }
   ],
   "source": [
    "zuzia=pd.read_csv(\"zuzia.csv\")\n",
    "id3.predict(zuzia)"
   ]
  },
  {
   "cell_type": "code",
   "execution_count": null,
   "id": "4e46d675",
   "metadata": {},
   "outputs": [],
   "source": []
  }
 ],
 "metadata": {
  "kernelspec": {
   "display_name": "firstEnv",
   "language": "python",
   "name": "firstenv"
  },
  "language_info": {
   "codemirror_mode": {
    "name": "ipython",
    "version": 3
   },
   "file_extension": ".py",
   "mimetype": "text/x-python",
   "name": "python",
   "nbconvert_exporter": "python",
   "pygments_lexer": "ipython3",
   "version": "3.10.9"
  }
 },
 "nbformat": 4,
 "nbformat_minor": 5
}
