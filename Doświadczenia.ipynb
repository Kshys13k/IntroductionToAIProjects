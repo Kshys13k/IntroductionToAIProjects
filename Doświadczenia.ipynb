{
 "cells": [
  {
   "cell_type": "markdown",
   "id": "59aa1114",
   "metadata": {},
   "source": [
    "# Wprowadzenie do sztucznej inteligencji- ćwiczenie 1"
   ]
  },
  {
   "cell_type": "markdown",
   "id": "5e0ca290",
   "metadata": {},
   "source": [
    "## 1. Doświadczenia: zadanie plecakowe"
   ]
  },
  {
   "cell_type": "code",
   "execution_count": 1,
   "id": "4abf3aae",
   "metadata": {},
   "outputs": [],
   "source": [
    "from Lab1.knapsackProblem.KnapsackProblem import KnapsackProblem\n",
    "import time"
   ]
  },
  {
   "cell_type": "markdown",
   "id": "72f41646",
   "metadata": {},
   "source": [
    "### Algorym heurestyczny dla danych standardowych:"
   ]
  },
  {
   "cell_type": "code",
   "execution_count": 2,
   "id": "db50c27f",
   "metadata": {},
   "outputs": [
    {
     "name": "stdout",
     "output_type": "stream",
     "text": [
      "Id: 0, price: 16, weight: 8, price/weight ratio: 2.0, taken: False\n",
      "Id: 1, price: 8, weight: 3, price/weight ratio: 2.6666666666666665, taken: True\n",
      "Id: 2, price: 9, weight: 5, price/weight ratio: 1.8, taken: False\n",
      "Id: 3, price: 6, weight: 2, price/weight ratio: 3.0, taken: True\n",
      "time: 4.38690185546875e-05\n",
      "price sum: 14\n"
     ]
    }
   ],
   "source": [
    "prices=[16,8,9,6]\n",
    "weights=[8,3,5,2]\n",
    "maxWeight=9\n",
    "items=[prices,weights]\n",
    "kp= KnapsackProblem(items, maxWeight)\n",
    "startTime=time.time()\n",
    "result=kp.algorithm1()\n",
    "endTime=time.time()\n",
    "result.sort(key=lambda x: x.id)\n",
    "for i in range (len(result)):\n",
    "    print(result[i])\n",
    "print(\"time: \" + str(endTime- startTime))\n",
    "priceSum=sum(map(lambda x: x.p if x.haveBeenTaken else 0, result))\n",
    "print(\"price sum: \" + str(priceSum))"
   ]
  },
  {
   "cell_type": "code",
   "execution_count": 4,
   "id": "e82cced3",
   "metadata": {},
   "outputs": [
    {
     "name": "stdout",
     "output_type": "stream",
     "text": [
      "Id: 0, price: 16, weight: 8, price/weight ratio: 2.0, taken: False\n",
      "Id: 1, price: 8, weight: 3, price/weight ratio: 2.6666666666666665, taken: True\n",
      "Id: 2, price: 9, weight: 5, price/weight ratio: 1.8, taken: True\n",
      "Id: 3, price: 6, weight: 2, price/weight ratio: 3.0, taken: False\n",
      "time: 0.00019621849060058594\n",
      "price sum: 17\n"
     ]
    }
   ],
   "source": [
    "kp.restart()\n",
    "startTime=time.time()\n",
    "result=kp.algorithm4()\n",
    "endTime=time.time()\n",
    "result.sort(key=lambda x: x.id)\n",
    "for i in range (len(result)):\n",
    "    print(result[i])\n",
    "print(\"time: \" + str(endTime- startTime))\n",
    "priceSum=sum(map(lambda x: x.p if x.haveBeenTaken else 0, result))\n",
    "print(\"price sum: \" + str(priceSum))"
   ]
  },
  {
   "cell_type": "code",
   "execution_count": null,
   "id": "beb4ab37",
   "metadata": {},
   "outputs": [],
   "source": []
  }
 ],
 "metadata": {
  "kernelspec": {
   "display_name": "firstEnv",
   "language": "python",
   "name": "firstenv"
  },
  "language_info": {
   "codemirror_mode": {
    "name": "ipython",
    "version": 3
   },
   "file_extension": ".py",
   "mimetype": "text/x-python",
   "name": "python",
   "nbconvert_exporter": "python",
   "pygments_lexer": "ipython3",
   "version": "3.10.9"
  }
 },
 "nbformat": 4,
 "nbformat_minor": 5
}
