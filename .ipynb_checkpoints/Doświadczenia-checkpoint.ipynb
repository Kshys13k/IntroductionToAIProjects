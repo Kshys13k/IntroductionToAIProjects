{
 "cells": [
  {
   "cell_type": "markdown",
   "id": "59aa1114",
   "metadata": {},
   "source": [
    "# Wprowadzenie do sztucznej inteligencji- ćwiczenie 1"
   ]
  },
  {
   "cell_type": "markdown",
   "id": "5e0ca290",
   "metadata": {},
   "source": [
    "## 1. Doświadczenia: zadanie plecakowe"
   ]
  },
  {
   "cell_type": "code",
   "execution_count": 3,
   "id": "4abf3aae",
   "metadata": {},
   "outputs": [
    {
     "name": "stdout",
     "output_type": "stream",
     "text": [
      "Id: 0, price: 16, weight: 8, price/weight ratio: 2.0, taken: False\n",
      "Id: 1, price: 8, weight: 3, price/weight ratio: 2.6666666666666665, taken: True\n",
      "Id: 2, price: 9, weight: 5, price/weight ratio: 1.8, taken: True\n",
      "Id: 3, price: 6, weight: 2, price/weight ratio: 3.0, taken: False\n"
     ]
    }
   ],
   "source": [
    "import Lab1.knapsackProblem.Item\n",
    "import Lab1.knapsackProblem.knapsackProblem"
   ]
  },
  {
   "cell_type": "code",
   "execution_count": null,
   "id": "cf808bc1",
   "metadata": {},
   "outputs": [],
   "source": []
  }
 ],
 "metadata": {
  "kernelspec": {
   "display_name": "firstEnv",
   "language": "python",
   "name": "firstenv"
  },
  "language_info": {
   "codemirror_mode": {
    "name": "ipython",
    "version": 3
   },
   "file_extension": ".py",
   "mimetype": "text/x-python",
   "name": "python",
   "nbconvert_exporter": "python",
   "pygments_lexer": "ipython3",
   "version": "3.10.9"
  }
 },
 "nbformat": 4,
 "nbformat_minor": 5
}
